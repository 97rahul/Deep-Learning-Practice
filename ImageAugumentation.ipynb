{
 "cells": [
  {
   "cell_type": "code",
   "execution_count": 3,
   "id": "f3d079af",
   "metadata": {},
   "outputs": [],
   "source": [
    "from keras.preprocessing.image import ImageDataGenerator, array_to_img, img_to_array, load_img\n",
    "\n",
    "datagen = ImageDataGenerator(rotation_range = 40, width_shift_range = 0.2, height_shift_range = 0.2,\n",
    "                             shear_range = 0.2, zoom_range = 0.2, horizontal_flip = True, fill_mode = 'nearest')\n",
    "\n",
    "img = load_img('cat.jpg')\n",
    "X = img_to_array(img)"
   ]
  },
  {
   "cell_type": "code",
   "execution_count": 4,
   "id": "57c50cf2",
   "metadata": {},
   "outputs": [
    {
     "data": {
      "text/plain": [
       "(267, 320, 3)"
      ]
     },
     "execution_count": 4,
     "metadata": {},
     "output_type": "execute_result"
    }
   ],
   "source": [
    "X.shape"
   ]
  },
  {
   "cell_type": "code",
   "execution_count": 5,
   "id": "5838e11f",
   "metadata": {},
   "outputs": [],
   "source": [
    "X = X.reshape((1,) + X.shape)"
   ]
  },
  {
   "cell_type": "code",
   "execution_count": 6,
   "id": "13751182",
   "metadata": {},
   "outputs": [
    {
     "data": {
      "text/plain": [
       "(1, 267, 320, 3)"
      ]
     },
     "execution_count": 6,
     "metadata": {},
     "output_type": "execute_result"
    }
   ],
   "source": [
    "X.shape"
   ]
  },
  {
   "cell_type": "code",
   "execution_count": 9,
   "id": "56442977",
   "metadata": {},
   "outputs": [],
   "source": [
    "i = 0\n",
    "for batch in datagen.flow(X, batch_size = 1,\n",
    "                         save_to_dir = 'preview',save_prefix = 'cat',save_format = 'jpg'):\n",
    "    i += 1\n",
    "    if i > 20:\n",
    "        break"
   ]
  },
  {
   "cell_type": "code",
   "execution_count": null,
   "id": "3be9c2eb",
   "metadata": {},
   "outputs": [],
   "source": []
  }
 ],
 "metadata": {
  "kernelspec": {
   "display_name": "Python 3",
   "language": "python",
   "name": "python3"
  },
  "language_info": {
   "codemirror_mode": {
    "name": "ipython",
    "version": 3
   },
   "file_extension": ".py",
   "mimetype": "text/x-python",
   "name": "python",
   "nbconvert_exporter": "python",
   "pygments_lexer": "ipython3",
   "version": "3.8.8"
  }
 },
 "nbformat": 4,
 "nbformat_minor": 5
}
